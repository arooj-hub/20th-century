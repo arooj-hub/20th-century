{
 "cells": [
  {
   "cell_type": "code",
   "execution_count": null,
   "id": "ec6ee2a4-7a75-4770-980c-dab8483e71ba",
   "metadata": {},
   "outputs": [],
   "source": [
    "from webdriver_manager.chrome import ChromeDriverManager\n",
    "from selenium import webdriver\n",
    "\n",
    "driver_path = ChromeDriverManager().install()\n",
    "driver = webdriver.Chrome(driver_path)\n",
    "driver.quit()\n"
   ]
  },
  {
   "cell_type": "code",
   "execution_count": null,
   "id": "484cf1dd-e2d1-4ee1-8f95-9fed4f92e5fb",
   "metadata": {},
   "outputs": [],
   "source": [
    "import requests\n",
    "from bs4 import BeautifulSoup\n",
    "\n",
    "url = \"https://en.wikipedia.org/wiki/Key_events_of_the_20th_century\"\n",
    "response = requests.get(url)\n",
    "\n",
    "if response.status_code == 200:\n",
    "    soup = BeautifulSoup(response.text, \"html.parser\")\n",
    "    text_content = soup.get_text()\n",
    "\n",
    "    with open(\"20th_century_events.txt\", \"w\", encoding=\"utf-8\") as file:\n",
    "        file.write(text_content)\n",
    "    print(\"Scraping complete. Data saved as '20th_century_events.txt'.\")\n",
    "else:\n",
    "    print(\"Failed to retrieve the page. Status code:\", response.status_code)\n"
   ]
  },
  {
   "cell_type": "code",
   "execution_count": null,
   "id": "bdf98ab0-ddca-407a-8fb0-97f38d26a003",
   "metadata": {},
   "outputs": [],
   "source": []
  }
 ],
 "metadata": {
  "kernelspec": {
   "display_name": "Python 3 (ipykernel)",
   "language": "python",
   "name": "python3"
  },
  "language_info": {
   "codemirror_mode": {
    "name": "ipython",
    "version": 3
   },
   "file_extension": ".py",
   "mimetype": "text/x-python",
   "name": "python",
   "nbconvert_exporter": "python",
   "pygments_lexer": "ipython3",
   "version": "3.9.21"
  }
 },
 "nbformat": 4,
 "nbformat_minor": 5
}
