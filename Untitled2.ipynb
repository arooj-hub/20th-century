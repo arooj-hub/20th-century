{
 "cells": [
  {
   "cell_type": "code",
   "execution_count": null,
   "id": "b010b248-61ac-415f-b3d3-63afbad690d3",
   "metadata": {},
   "outputs": [],
   "source": []
  }
 ],
 "metadata": {
  "kernelspec": {
   "display_name": "Python [conda env:Anaconada]",
   "language": "python",
   "name": "conda-env-Anaconada-py"
  },
  "language_info": {
   "codemirror_mode": {
    "name": "ipython",
    "version": 3
   },
   "file_extension": ".py",
   "mimetype": "text/x-python",
   "name": "python",
   "nbconvert_exporter": "python",
   "pygments_lexer": "ipython3",
   "version": "3.12.7"
  }
 },
 "nbformat": 4,
 "nbformat_minor": 5
}
