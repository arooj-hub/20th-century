{
 "cells": [
  {
   "cell_type": "markdown",
   "id": "1181a153-c258-4299-a14a-3e0ab18bd9e6",
   "metadata": {},
   "source": [
    "# Named Entity Recognition Analysis"
   ]
  },
  {
   "cell_type": "markdown",
   "id": "38447998-75a9-45d9-9d04-a4b78eef6911",
   "metadata": {},
   "source": [
    "# Importing Libraries"
   ]
  },
  {
   "cell_type": "code",
   "execution_count": 17,
   "id": "915b8611-37ec-4ef8-b46b-f8e12c89c797",
   "metadata": {},
   "outputs": [],
   "source": [
    "# Import libraries\n",
    "import pandas as pd\n",
    "import numpy as np\n",
    "import spacy\n",
    "from spacy import displacy\n",
    "import networkx as nx\n",
    "import os\n",
    "import matplotlib.pyplot as plt\n",
    "import scipy\n",
    "import re\n",
    "from collections import Counter\n"
   ]
  },
  {
   "cell_type": "code",
   "execution_count": 4,
   "id": "3fb2a080-6a86-4f54-9ab4-03a6663339ee",
   "metadata": {},
   "outputs": [
    {
     "name": "stdout",
     "output_type": "stream",
     "text": [
      "Collecting en-core-web-sm==3.4.1\n",
      "  Downloading https://github.com/explosion/spacy-models/releases/download/en_core_web_sm-3.4.1/en_core_web_sm-3.4.1-py3-none-any.whl (12.8 MB)\n",
      "     ---------------------------------------- 0.0/12.8 MB ? eta -:--:--\n",
      "     ------------------ --------------------- 6.0/12.8 MB 33.5 MB/s eta 0:00:01\n",
      "     ------------------------------ -------- 10.0/12.8 MB 34.4 MB/s eta 0:00:01\n",
      "     --------------------------------------  12.6/12.8 MB 28.1 MB/s eta 0:00:01\n",
      "     --------------------------------------- 12.8/12.8 MB 19.1 MB/s eta 0:00:00\n",
      "Requirement already satisfied: spacy<3.5.0,>=3.4.0 in c:\\anaconda\\envs\\20th_century\\lib\\site-packages (from en-core-web-sm==3.4.1) (3.4.3)\n",
      "Requirement already satisfied: spacy-legacy<3.1.0,>=3.0.10 in c:\\anaconda\\envs\\20th_century\\lib\\site-packages (from spacy<3.5.0,>=3.4.0->en-core-web-sm==3.4.1) (3.0.12)\n",
      "Requirement already satisfied: spacy-loggers<2.0.0,>=1.0.0 in c:\\anaconda\\envs\\20th_century\\lib\\site-packages (from spacy<3.5.0,>=3.4.0->en-core-web-sm==3.4.1) (1.0.5)\n",
      "Requirement already satisfied: murmurhash<1.1.0,>=0.28.0 in c:\\anaconda\\envs\\20th_century\\lib\\site-packages (from spacy<3.5.0,>=3.4.0->en-core-web-sm==3.4.1) (1.0.12)\n",
      "Requirement already satisfied: cymem<2.1.0,>=2.0.2 in c:\\anaconda\\envs\\20th_century\\lib\\site-packages (from spacy<3.5.0,>=3.4.0->en-core-web-sm==3.4.1) (2.0.11)\n",
      "Requirement already satisfied: preshed<3.1.0,>=3.0.2 in c:\\anaconda\\envs\\20th_century\\lib\\site-packages (from spacy<3.5.0,>=3.4.0->en-core-web-sm==3.4.1) (3.0.9)\n",
      "Requirement already satisfied: thinc<8.2.0,>=8.1.0 in c:\\anaconda\\envs\\20th_century\\lib\\site-packages (from spacy<3.5.0,>=3.4.0->en-core-web-sm==3.4.1) (8.1.12)\n",
      "Requirement already satisfied: wasabi<1.1.0,>=0.9.1 in c:\\anaconda\\envs\\20th_century\\lib\\site-packages (from spacy<3.5.0,>=3.4.0->en-core-web-sm==3.4.1) (0.10.1)\n",
      "Requirement already satisfied: srsly<3.0.0,>=2.4.3 in c:\\anaconda\\envs\\20th_century\\lib\\site-packages (from spacy<3.5.0,>=3.4.0->en-core-web-sm==3.4.1) (2.5.1)\n",
      "Requirement already satisfied: catalogue<2.1.0,>=2.0.6 in c:\\anaconda\\envs\\20th_century\\lib\\site-packages (from spacy<3.5.0,>=3.4.0->en-core-web-sm==3.4.1) (2.0.10)\n",
      "Requirement already satisfied: typer<0.8.0,>=0.3.0 in c:\\anaconda\\envs\\20th_century\\lib\\site-packages (from spacy<3.5.0,>=3.4.0->en-core-web-sm==3.4.1) (0.7.0)\n",
      "Requirement already satisfied: pathy>=0.3.5 in c:\\anaconda\\envs\\20th_century\\lib\\site-packages (from spacy<3.5.0,>=3.4.0->en-core-web-sm==3.4.1) (0.11.0)\n",
      "Requirement already satisfied: tqdm<5.0.0,>=4.38.0 in c:\\anaconda\\envs\\20th_century\\lib\\site-packages (from spacy<3.5.0,>=3.4.0->en-core-web-sm==3.4.1) (4.67.1)\n",
      "Requirement already satisfied: numpy>=1.15.0 in c:\\anaconda\\envs\\20th_century\\lib\\site-packages (from spacy<3.5.0,>=3.4.0->en-core-web-sm==3.4.1) (1.25.2)\n",
      "Requirement already satisfied: requests<3.0.0,>=2.13.0 in c:\\anaconda\\envs\\20th_century\\lib\\site-packages (from spacy<3.5.0,>=3.4.0->en-core-web-sm==3.4.1) (2.32.3)\n",
      "Requirement already satisfied: pydantic!=1.8,!=1.8.1,<1.11.0,>=1.7.4 in c:\\anaconda\\envs\\20th_century\\lib\\site-packages (from spacy<3.5.0,>=3.4.0->en-core-web-sm==3.4.1) (1.10.21)\n",
      "Requirement already satisfied: jinja2 in c:\\anaconda\\envs\\20th_century\\lib\\site-packages (from spacy<3.5.0,>=3.4.0->en-core-web-sm==3.4.1) (3.1.6)\n",
      "Requirement already satisfied: setuptools in c:\\anaconda\\envs\\20th_century\\lib\\site-packages (from spacy<3.5.0,>=3.4.0->en-core-web-sm==3.4.1) (75.8.0)\n",
      "Requirement already satisfied: packaging>=20.0 in c:\\anaconda\\envs\\20th_century\\lib\\site-packages (from spacy<3.5.0,>=3.4.0->en-core-web-sm==3.4.1) (24.2)\n",
      "Requirement already satisfied: langcodes<4.0.0,>=3.2.0 in c:\\anaconda\\envs\\20th_century\\lib\\site-packages (from spacy<3.5.0,>=3.4.0->en-core-web-sm==3.4.1) (3.5.0)\n",
      "Requirement already satisfied: language-data>=1.2 in c:\\anaconda\\envs\\20th_century\\lib\\site-packages (from langcodes<4.0.0,>=3.2.0->spacy<3.5.0,>=3.4.0->en-core-web-sm==3.4.1) (1.3.0)\n",
      "Requirement already satisfied: smart-open<7.0.0,>=5.2.1 in c:\\anaconda\\envs\\20th_century\\lib\\site-packages (from pathy>=0.3.5->spacy<3.5.0,>=3.4.0->en-core-web-sm==3.4.1) (6.4.0)\n",
      "Requirement already satisfied: pathlib-abc==0.1.1 in c:\\anaconda\\envs\\20th_century\\lib\\site-packages (from pathy>=0.3.5->spacy<3.5.0,>=3.4.0->en-core-web-sm==3.4.1) (0.1.1)\n",
      "Requirement already satisfied: typing-extensions>=4.2.0 in c:\\anaconda\\envs\\20th_century\\lib\\site-packages (from pydantic!=1.8,!=1.8.1,<1.11.0,>=1.7.4->spacy<3.5.0,>=3.4.0->en-core-web-sm==3.4.1) (4.12.2)\n",
      "Requirement already satisfied: charset-normalizer<4,>=2 in c:\\anaconda\\envs\\20th_century\\lib\\site-packages (from requests<3.0.0,>=2.13.0->spacy<3.5.0,>=3.4.0->en-core-web-sm==3.4.1) (3.4.1)\n",
      "Requirement already satisfied: idna<4,>=2.5 in c:\\anaconda\\envs\\20th_century\\lib\\site-packages (from requests<3.0.0,>=2.13.0->spacy<3.5.0,>=3.4.0->en-core-web-sm==3.4.1) (3.10)\n",
      "Requirement already satisfied: urllib3<3,>=1.21.1 in c:\\anaconda\\envs\\20th_century\\lib\\site-packages (from requests<3.0.0,>=2.13.0->spacy<3.5.0,>=3.4.0->en-core-web-sm==3.4.1) (2.3.0)\n",
      "Requirement already satisfied: certifi>=2017.4.17 in c:\\anaconda\\envs\\20th_century\\lib\\site-packages (from requests<3.0.0,>=2.13.0->spacy<3.5.0,>=3.4.0->en-core-web-sm==3.4.1) (2025.1.31)\n",
      "Requirement already satisfied: blis<0.8.0,>=0.7.8 in c:\\anaconda\\envs\\20th_century\\lib\\site-packages (from thinc<8.2.0,>=8.1.0->spacy<3.5.0,>=3.4.0->en-core-web-sm==3.4.1) (0.7.11)\n",
      "Requirement already satisfied: confection<1.0.0,>=0.0.1 in c:\\anaconda\\envs\\20th_century\\lib\\site-packages (from thinc<8.2.0,>=8.1.0->spacy<3.5.0,>=3.4.0->en-core-web-sm==3.4.1) (0.1.5)\n",
      "Requirement already satisfied: colorama in c:\\anaconda\\envs\\20th_century\\lib\\site-packages (from tqdm<5.0.0,>=4.38.0->spacy<3.5.0,>=3.4.0->en-core-web-sm==3.4.1) (0.4.6)\n",
      "Requirement already satisfied: click<9.0.0,>=7.1.1 in c:\\anaconda\\envs\\20th_century\\lib\\site-packages (from typer<0.8.0,>=0.3.0->spacy<3.5.0,>=3.4.0->en-core-web-sm==3.4.1) (8.1.8)\n",
      "Requirement already satisfied: MarkupSafe>=2.0 in c:\\anaconda\\envs\\20th_century\\lib\\site-packages (from jinja2->spacy<3.5.0,>=3.4.0->en-core-web-sm==3.4.1) (3.0.2)\n",
      "Requirement already satisfied: marisa-trie>=1.1.0 in c:\\anaconda\\envs\\20th_century\\lib\\site-packages (from language-data>=1.2->langcodes<4.0.0,>=3.2.0->spacy<3.5.0,>=3.4.0->en-core-web-sm==3.4.1) (1.2.1)\n",
      "Installing collected packages: en-core-web-sm\n",
      "Successfully installed en-core-web-sm-3.4.1\n",
      "[+] Download and installation successful\n",
      "You can now load the package via spacy.load('en_core_web_sm')\n"
     ]
    }
   ],
   "source": [
    "# Download English module\n",
    "\n",
    "!python -m spacy download en_core_web_sm"
   ]
  },
  {
   "cell_type": "code",
   "execution_count": 5,
   "id": "ae89574e-4ff4-46b2-8ad9-30960ece96b8",
   "metadata": {},
   "outputs": [],
   "source": [
    "# Load spaCy's large English model\n",
    "nlp = spacy.load(\"en_core_web_sm\")"
   ]
  },
  {
   "cell_type": "markdown",
   "id": "07190587-a108-4321-a985-787a35f7d3fa",
   "metadata": {},
   "source": [
    "# Load the Twentieth-Century Text Data"
   ]
  },
  {
   "cell_type": "code",
   "execution_count": 6,
   "id": "81d00345-59af-481b-a0b0-7b1b118768fc",
   "metadata": {},
   "outputs": [],
   "source": [
    "# Load the text data\n",
    "file_path = \"20th_century_events_cleaned.txt\"\n",
    "with open(file_path, \"r\", encoding=\"utf-8\") as file:\n",
    "    text_data = file.read()"
   ]
  },
  {
   "cell_type": "code",
   "execution_count": 7,
   "id": "971c6b1c-28c1-4cfe-a921-757733957b74",
   "metadata": {},
   "outputs": [
    {
     "name": "stdout",
     "output_type": "stream",
     "text": [
      "\n",
      "Key events of the 20th century - Wikipedia\n",
      "\n",
      "Personal tools\n",
      "Donate Create account Log in\n",
      "\t\tPages for logged out editors learn more\n",
      "ContributionsTalk\n",
      "Contents\n",
      "move to sidebar\n",
      "hide\n",
      "(Top)\n",
      "1\n",
      "Historic events in the 20th century\n",
      "Toggle Historic events in the 20th century subsection\n",
      "1.1\n",
      "World at the beginning of the century\n",
      "1.1.1\n",
      "\"The war to end all wars\": World War I (1914–1918)\n",
      "1.1.2\n",
      "Russian Revolution and communism\n",
      "1.2\n",
      "Between the wars\n",
      "1.2.1\n",
      "Economic depression\n",
      "1.2.2\n",
      "The rise of dictatorship\n",
      "1.3\n",
      "Global war: World War II (1939–1945)\n",
      "1.3.1\n",
      "The war in Europe\n",
      "1.3.2\n",
      "Blitzkrieg\n",
      "1.3.3\n",
      "Operation Barbarossa\n",
      "1.3.4\n",
      "Turning tides\n",
      "1.3.5\n",
      "Operation Overlord\n",
      "1.3.6\n",
      "Final days\n",
      "1.3.7\n",
      "The war in the Pacific\n",
      "1.3.7.1\n",
      "Background\n",
      "1.3.8\n",
      "Japanese Expansion\n",
      "1.3.9\n",
      "Allied offensive\n",
      "1.3.10\n",
      "Final days\n",
      "1.3.11\n",
      "The Holocaust\n",
      "1.3.12\n",
      "The Nuclear Age begins\n",
      "1.4\n",
      "The post-war world\n",
      "1.4.1\n",
      "The end of empires: decolonization\n",
      "1.4.2\n",
      "The Cold War (1947–1991)\n",
      "1.4.3\n",
      "War by proxy\n",
      "1.4.4\n",
      "The space race\n",
      "1.4.5\n",
      "The end of the Cold War\n",
      "1.4.6\n",
      "\n"
     ]
    }
   ],
   "source": [
    "# Print a preview\n",
    "print(text_data[:1000])  # First 1000 characters\n"
   ]
  },
  {
   "cell_type": "markdown",
   "id": "ed1fce42-9885-47d9-ae29-0bad31cf4cf4",
   "metadata": {},
   "source": [
    "# Text Wrangling and Cleaning"
   ]
  },
  {
   "cell_type": "code",
   "execution_count": 8,
   "id": "6dea676a-b047-49d6-b110-7bff15058b5a",
   "metadata": {},
   "outputs": [],
   "source": [
    "# Remove special characters and multiple spaces\n",
    "def clean_text(text):\n",
    "    text = re.sub(r\"[^a-zA-Z0-9.,;!?\\'\\\"\\s]\", \"\", text)  # Remove unwanted characters\n",
    "    text = re.sub(r\"\\s+\", \" \", text).strip()  # Remove extra spaces\n",
    "    return text"
   ]
  },
  {
   "cell_type": "code",
   "execution_count": 32,
   "id": "c585ab91-2d1d-480a-bb90-1ad4c434125f",
   "metadata": {},
   "outputs": [
    {
     "ename": "NameError",
     "evalue": "name 'text' is not defined",
     "output_type": "error",
     "traceback": [
      "\u001b[1;31m---------------------------------------------------------------------------\u001b[0m",
      "\u001b[1;31mNameError\u001b[0m                                 Traceback (most recent call last)",
      "Cell \u001b[1;32mIn[32], line 11\u001b[0m\n\u001b[0;32m      2\u001b[0m country_variations \u001b[38;5;241m=\u001b[39m {\n\u001b[0;32m      3\u001b[0m     \u001b[38;5;124m\"\u001b[39m\u001b[38;5;124mUSA\u001b[39m\u001b[38;5;124m\"\u001b[39m: \u001b[38;5;124m\"\u001b[39m\u001b[38;5;124mUnited States\u001b[39m\u001b[38;5;124m\"\u001b[39m,\n\u001b[0;32m      4\u001b[0m     \u001b[38;5;124m\"\u001b[39m\u001b[38;5;124mAmerica\u001b[39m\u001b[38;5;124m\"\u001b[39m: \u001b[38;5;124m\"\u001b[39m\u001b[38;5;124mUnited States\u001b[39m\u001b[38;5;124m\"\u001b[39m,\n\u001b[1;32m   (...)\u001b[0m\n\u001b[0;32m      7\u001b[0m     \u001b[38;5;124m\"\u001b[39m\u001b[38;5;124mPRC\u001b[39m\u001b[38;5;124m\"\u001b[39m: \u001b[38;5;124m\"\u001b[39m\u001b[38;5;124mChina\u001b[39m\u001b[38;5;124m\"\u001b[39m\n\u001b[0;32m      8\u001b[0m }\n\u001b[0;32m     10\u001b[0m \u001b[38;5;28;01mfor\u001b[39;00m variant, standard \u001b[38;5;129;01min\u001b[39;00m country_variations\u001b[38;5;241m.\u001b[39mitems():\n\u001b[1;32m---> 11\u001b[0m     text \u001b[38;5;241m=\u001b[39m \u001b[43mtext\u001b[49m\u001b[38;5;241m.\u001b[39mreplace(variant, standard)\n\u001b[0;32m     13\u001b[0m \u001b[38;5;28;01mreturn\u001b[39;00m text\n",
      "\u001b[1;31mNameError\u001b[0m: name 'text' is not defined"
     ]
    }
   ],
   "source": [
    "    # Standardize country names\n",
    "    country_variations = {\n",
    "        \"USA\": \"United States\",\n",
    "        \"America\": \"United States\",\n",
    "        \"UK\": \"United Kingdom\",\n",
    "        \"Soviet Union\": \"Russia\",\n",
    "        \"PRC\": \"China\"\n",
    "    }\n",
    "    \n",
    "    for variant, standard in country_variations.items():\n",
    "        text = text.replace(variant, standard)\n",
    "    \n",
    "    return text"
   ]
  },
  {
   "cell_type": "code",
   "execution_count": 33,
   "id": "55179f5f-4003-4494-8b00-f6bf79ece661",
   "metadata": {},
   "outputs": [],
   "source": [
    "cleaned_text = clean_text(text_data)"
   ]
  },
  {
   "cell_type": "code",
   "execution_count": 36,
   "id": "3bdb68d7-67c5-4954-9068-573a23019767",
   "metadata": {},
   "outputs": [],
   "source": [
    "# Save cleaned text to a new file\n",
    "cleaned_file_path = \"20th_century_events_cleaned_normalized.txt\"\n",
    "with open(cleaned_file_path, \"w\", encoding=\"utf-8\") as file:\n",
    "    file.write(cleaned_text)"
   ]
  },
  {
   "cell_type": "code",
   "execution_count": 37,
   "id": "fdcf5a7b-b498-4dc0-8031-e01c30c191f8",
   "metadata": {},
   "outputs": [
    {
     "name": "stdout",
     "output_type": "stream",
     "text": [
      "Key events of the 20th century Wikipedia Personal tools Donate Create account Log in Pages for logged out editors learn more ContributionsTalk Contents move to sidebar hide Top 1 Historic events in the 20th century Toggle Historic events in the 20th century subsection 1.1 World at the beginning of the century 1.1.1 \"The war to end all wars\" World War I 19141918 1.1.2 Russian Revolution and communism 1.2 Between the wars 1.2.1 Economic depression 1.2.2 The rise of dictatorship 1.3 Global war World War II 19391945 1.3.1 The war in Europe 1.3.2 Blitzkrieg 1.3.3 Operation Barbarossa 1.3.4 Turning tides 1.3.5 Operation Overlord 1.3.6 Final days 1.3.7 The war in the Pacific 1.3.7.1 Background 1.3.8 Japanese Expansion 1.3.9 Allied offensive 1.3.10 Final days 1.3.11 The Holocaust 1.3.12 The Nuclear Age begins 1.4 The postwar world 1.4.1 The end of empires decolonization 1.4.2 The Cold War 19471991 1.4.3 War by proxy 1.4.4 The space race 1.4.5 The end of the Cold War 1.4.6 Information and commu\n"
     ]
    }
   ],
   "source": [
    "# Print a preview\n",
    "print(cleaned_text[:1000])"
   ]
  },
  {
   "cell_type": "markdown",
   "id": "5d63963a-ab53-4426-b67c-a84c974c6a6f",
   "metadata": {},
   "source": [
    "#  Named Entity Recognition (NER) using spaCy"
   ]
  },
  {
   "cell_type": "code",
   "execution_count": 38,
   "id": "c566b57d-ec38-4df8-93c1-410e618bb973",
   "metadata": {},
   "outputs": [],
   "source": [
    "# Apply NLP processing\n",
    "doc = nlp(cleaned_text)\n"
   ]
  },
  {
   "cell_type": "code",
   "execution_count": 39,
   "id": "ad8b0781-ca63-43fc-b660-a3b973e5d6b6",
   "metadata": {},
   "outputs": [],
   "source": [
    "# Extract named entities\n",
    "entities = [(ent.text, ent.label_) for ent in doc.ents]"
   ]
  },
  {
   "cell_type": "code",
   "execution_count": 40,
   "id": "1c9ff82d-63dc-4374-88cc-05739a618fc1",
   "metadata": {},
   "outputs": [
    {
     "name": "stdout",
     "output_type": "stream",
     "text": [
      "[('the 20th century', 'DATE'), ('Wikipedia Personal', 'ORG'), ('Donate Create', 'PRODUCT'), ('ContributionsTalk Contents', 'PRODUCT'), ('1', 'CARDINAL'), ('the 20th century', 'DATE'), ('Toggle Historic', 'ORG'), ('the 20th century', 'DATE'), ('1.1', 'CARDINAL'), ('the beginning of the century', 'DATE'), ('World War I', 'EVENT'), ('19141918 1.1.2', 'DATE'), ('1.2', 'CARDINAL'), ('1.2.1', 'CARDINAL'), ('1.3', 'CARDINAL'), ('World War II', 'EVENT'), ('Europe', 'LOC'), ('Blitzkrieg 1.3.3 Operation Barbarossa 1.3.4', 'ORG'), ('Operation Overlord 1.3.6', 'EVENT'), ('Japanese Expansion', 'ORG')]\n"
     ]
    }
   ],
   "source": [
    "# Display first 20 entities\n",
    "print(entities[:20])"
   ]
  },
  {
   "cell_type": "markdown",
   "id": "a6988d3d-3e62-41a8-9be1-165dbd4f21a2",
   "metadata": {},
   "source": [
    "#  Extract and Filter Country Entities\n"
   ]
  },
  {
   "cell_type": "code",
   "execution_count": 41,
   "id": "d592ef65-8633-485c-ab47-8f98b2361fdb",
   "metadata": {},
   "outputs": [],
   "source": [
    "# List of countries to filter (Use previous country lookup list if available)\n",
    "countries = [\"Germany\", \"Japan\", \"United States\", \"France\", \"Italy\", \"China\", \"Russia\", \"India\", \"United Kingdom\", \"Canada\"]\n"
   ]
  },
  {
   "cell_type": "code",
   "execution_count": 42,
   "id": "f28eb066-5724-45ad-872d-0cff4c0e02e7",
   "metadata": {},
   "outputs": [],
   "source": [
    "# Filter only country entities\n",
    "country_mentions = [ent.text for ent in doc.ents if ent.text in countries]\n"
   ]
  },
  {
   "cell_type": "code",
   "execution_count": 43,
   "id": "91702075-cf87-4a8a-8e1d-c0b824709ce4",
   "metadata": {},
   "outputs": [],
   "source": [
    "# Count occurrences\n",
    "country_counts = Counter(country_mentions)"
   ]
  },
  {
   "cell_type": "code",
   "execution_count": 44,
   "id": "f3b76946-7e11-494c-a32b-7b4e9dc95b3a",
   "metadata": {},
   "outputs": [],
   "source": [
    "# Convert to DataFrame\n",
    "df_countries = pd.DataFrame(country_counts.items(), columns=[\"Country\", \"Mentions\"])"
   ]
  },
  {
   "cell_type": "code",
   "execution_count": 45,
   "id": "3c67708b-8baf-42e9-b2cd-acd7dace65ef",
   "metadata": {},
   "outputs": [
    {
     "name": "stdout",
     "output_type": "stream",
     "text": [
      "         Country  Mentions\n",
      "0         France        12\n",
      "1         Russia         7\n",
      "2        Germany        30\n",
      "3          Italy        10\n",
      "4          Japan        27\n",
      "5          China         7\n",
      "6          India         9\n",
      "7         Canada         1\n",
      "8  United States         1\n"
     ]
    }
   ],
   "source": [
    "print(df_countries)  # Print the DataFrame in the console\n"
   ]
  },
  {
   "cell_type": "markdown",
   "id": "2e259c06-e26f-4a96-8cc8-b241fca695b9",
   "metadata": {},
   "source": [
    "# Create a Relationships DataFrame\n"
   ]
  },
  {
   "cell_type": "code",
   "execution_count": 46,
   "id": "020feea6-3b5d-47d1-bbd3-9e423123c13b",
   "metadata": {},
   "outputs": [],
   "source": [
    "# Extract sentences containing country mentions\n",
    "sentences = [sent.text for sent in doc.sents if any(country in sent.text for country in countries)]"
   ]
  },
  {
   "cell_type": "code",
   "execution_count": 47,
   "id": "52e3241e-b71f-4aa8-a3a5-a8963e102cc9",
   "metadata": {},
   "outputs": [],
   "source": [
    "# Create relationships DataFrame\n",
    "relationship_data = []\n",
    "for sent in sentences:\n",
    "    present_countries = [country for country in countries if country in sent]\n",
    "    if len(present_countries) > 1:\n",
    "        relationship_data.append({\"Sentence\": sent, \"Countries\": \", \".join(present_countries)})\n"
   ]
  },
  {
   "cell_type": "code",
   "execution_count": 48,
   "id": "7ea008c4-179c-47c1-8679-c0164fc5904b",
   "metadata": {},
   "outputs": [],
   "source": [
    "df_relationships = pd.DataFrame(relationship_data)"
   ]
  },
  {
   "cell_type": "code",
   "execution_count": 49,
   "id": "940517e3-993b-4ec0-8892-844b98725f4e",
   "metadata": {},
   "outputs": [
    {
     "name": "stdout",
     "output_type": "stream",
     "text": [
      "                                            Sentence               Countries\n",
      "0  After a period of diplomatic and military esca...          France, Russia\n",
      "1  The Bolsheviks negotiated the Treaty of BrestL...         Germany, Russia\n",
      "2  In the treaty, Bolshevik Russia ceded the Balt...         Germany, Russia\n",
      "3  Germany, 1933 Fascism first appeared in Italy ...          Germany, Italy\n",
      "4  The Nazi Party in Germany was dedicated to the...  Germany, United States\n"
     ]
    }
   ],
   "source": [
    "# Display the DataFrame\n",
    "print(df_relationships.head())  # Print first 5 rows"
   ]
  },
  {
   "cell_type": "markdown",
   "id": "e8552237-4603-498e-a08a-4c95e6440ed4",
   "metadata": {},
   "source": [
    "#  Save and Export the DataFrame"
   ]
  },
  {
   "cell_type": "code",
   "execution_count": 50,
   "id": "9d8f0b73-ff0e-49e1-9342-63dc1db423f2",
   "metadata": {},
   "outputs": [],
   "source": [
    "# Save to CSV\n",
    "df_relationships.to_csv(\"country_relationships.csv\", index=False)\n"
   ]
  },
  {
   "cell_type": "markdown",
   "id": "029ce3c1-cc8a-4f57-9c90-4744468e642c",
   "metadata": {},
   "source": [
    "#  Push Notebook to GitHub"
   ]
  },
  {
   "cell_type": "code",
   "execution_count": null,
   "id": "207534a4-30c7-49b0-8d89-395600387931",
   "metadata": {},
   "outputs": [],
   "source": []
  }
 ],
 "metadata": {
  "kernelspec": {
   "display_name": "Python 3 (ipykernel)",
   "language": "python",
   "name": "python3"
  },
  "language_info": {
   "codemirror_mode": {
    "name": "ipython",
    "version": 3
   },
   "file_extension": ".py",
   "mimetype": "text/x-python",
   "name": "python",
   "nbconvert_exporter": "python",
   "pygments_lexer": "ipython3",
   "version": "3.9.21"
  }
 },
 "nbformat": 4,
 "nbformat_minor": 5
}
