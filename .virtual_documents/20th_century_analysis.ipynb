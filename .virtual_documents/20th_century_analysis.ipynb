import pandas as pd
print(pd.__version__)



import pandas as pd

df = pd.DataFrame({
    'Name': ['Alice', 'Bob', 'Charlie', 'David'],
    'Age': [25, 30, 35, 40],
    'Country': ['USA', 'Canada', 'USA', 'UK']
})

df



df['Age_Times_2'] = df['Age'].apply(lambda x: x * 2)
df



df['Region'] = df['Country'].apply(lambda x: 'North America' if x in ['USA', 'Canada'] else 'Europe')
df




